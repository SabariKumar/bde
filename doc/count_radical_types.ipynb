{
 "cells": [
  {
   "cell_type": "code",
   "execution_count": 1,
   "metadata": {},
   "outputs": [],
   "source": [
    "import numpy as np\n",
    "import sys\n",
    "import gzip\n",
    "from itertools import islice\n",
    "import pandas as pd\n",
    "import rdkit\n",
    "from tqdm import tqdm\n",
    "\n",
    "\n",
    "# Ignore rdkit warnings: https://github.com/rdkit/rdkit/issues/2683\n",
    "from rdkit import RDLogger\n",
    "RDLogger.DisableLog('rdApp.*')"
   ]
  },
  {
   "cell_type": "code",
   "execution_count": 2,
   "metadata": {},
   "outputs": [
    {
     "name": "stdout",
     "output_type": "stream",
     "text": [
      "2020.03.1\n"
     ]
    }
   ],
   "source": [
    "print(rdkit.__version__)"
   ]
  },
  {
   "cell_type": "code",
   "execution_count": 3,
   "metadata": {},
   "outputs": [],
   "source": [
    "from warnings import warn\n",
    "from rdkit.Chem.Descriptors import NumRadicalElectrons\n",
    "\n",
    "def iter_mols():\n",
    "    \"\"\" Iterate over the SDF file, yielding a pandas Series for each molecule.\n",
    "    While this is likely not the fastest way to load the data, the SDF file\n",
    "    format can be read by many different softwares, and the loop allows additional\n",
    "    post-processing to occur while reading the molecules.\n",
    "    \n",
    "    Some errors for rotational constants are expected for molecules that have\n",
    "    infinite values.\n",
    "    \n",
    "    Here, 20200415_radical_database.sdf.gz has been downloaded from figshare to\n",
    "    the same directory.\n",
    "    \"\"\"\n",
    "    \n",
    "    with gzip.open('20200415_radical_database.sdf.gz') as sdffile:\n",
    "        mol_suppl = rdkit.Chem.ForwardSDMolSupplier(sdffile, removeHs=False)\n",
    "        for mol in tqdm(mol_suppl, total=289639):\n",
    "            props = mol.GetPropsAsDict()\n",
    "            props['mol'] = mol\n",
    "            for item in ['AtomCharges', 'AtomSpins', 'VibFreqs', 'IRIntensity', 'RotConstants']:\n",
    "                if item in props:\n",
    "                    try:\n",
    "                        props[item] = eval(props[item])\n",
    "                    except NameError:\n",
    "                        warn(\"Error with molecule {} property {}\".format(props['SMILES'], item))\n",
    "                    \n",
    "            props['type'] = 'molecule' if NumRadicalElectrons(mol) == 0 else 'fragment'\n",
    "            props['Name'] = mol.GetProp('_Name')\n",
    "            yield pd.Series(props)"
   ]
  },
  {
   "cell_type": "code",
   "execution_count": 4,
   "metadata": {},
   "outputs": [
    {
     "name": "stderr",
     "output_type": "stream",
     "text": [
      "  0%|          | 0/289639 [00:00<?, ?it/s]/projects/rlmolecule/pstjohn/envs/tf2/lib/python3.7/site-packages/ipykernel_launcher.py:27: UserWarning: Error with molecule [OH] property RotConstants\n",
      "/projects/rlmolecule/pstjohn/envs/tf2/lib/python3.7/site-packages/ipykernel_launcher.py:27: UserWarning: Error with molecule [H] property RotConstants\n",
      "  0%|          | 176/289639 [00:00<05:29, 879.26it/s]/projects/rlmolecule/pstjohn/envs/tf2/lib/python3.7/site-packages/ipykernel_launcher.py:27: UserWarning: Error with molecule [N]=O property RotConstants\n",
      " 96%|█████████▌| 276933/289639 [05:50<00:15, 837.67it/s]/projects/rlmolecule/pstjohn/envs/tf2/lib/python3.7/site-packages/ipykernel_launcher.py:27: UserWarning: Error with molecule [O-] property RotConstants\n",
      "100%|█████████▉| 289334/289639 [06:08<00:00, 839.87it/s]/projects/rlmolecule/pstjohn/envs/tf2/lib/python3.7/site-packages/ipykernel_launcher.py:27: UserWarning: Error with molecule [C]#N property RotConstants\n",
      "100%|██████████| 289639/289639 [06:09<00:00, 784.41it/s]\n"
     ]
    }
   ],
   "source": [
    "# Load the molecules into a pandas dataframe.\n",
    "# This takes approximately 5 minutes for my compute node. Faster read/write\n",
    "# speeds can be obtained for subsequent analysis by saving as a pickle or hdf5 file.\n",
    "df = pd.DataFrame(iter_mols())"
   ]
  },
  {
   "cell_type": "code",
   "execution_count": 5,
   "metadata": {},
   "outputs": [
    {
     "name": "stderr",
     "output_type": "stream",
     "text": [
      "/projects/rlmolecule/pstjohn/envs/tf2/lib/python3.7/site-packages/tqdm/std.py:668: FutureWarning: The Panel class is removed from pandas. Accessing it from the top-level namespace will also be removed in the next version\n",
      "  from pandas import Panel\n"
     ]
    }
   ],
   "source": [
    "from rdkit import Chem\n",
    "from tqdm import tqdm\n",
    "tqdm.pandas()\n",
    "\n",
    "def radical_type(smiles):\n",
    "    \"\"\"Return a description of the element and degree of the formal radical center\"\"\"\n",
    "    mol = Chem.MolFromSmiles(smiles)\n",
    "    atom = get_radical(mol)\n",
    "    return pd.Series({'element': atom.GetSymbol(),\n",
    "                      'degree': atom.GetDegree()})\n",
    "    \n",
    "    \n",
    "def get_radical(mol):\n",
    "    \"\"\"Return the atom within a molecule containing the unpaired electron\"\"\"\n",
    "    for atom in mol.GetAtoms():\n",
    "        if atom.GetNumRadicalElectrons() > 0:\n",
    "            return atom"
   ]
  },
  {
   "cell_type": "code",
   "execution_count": 6,
   "metadata": {},
   "outputs": [
    {
     "name": "stderr",
     "output_type": "stream",
     "text": [
      "100%|██████████| 246363/246363 [01:50<00:00, 2221.99it/s]\n"
     ]
    },
    {
     "data": {
      "text/html": [
       "<div>\n",
       "<style scoped>\n",
       "    .dataframe tbody tr th:only-of-type {\n",
       "        vertical-align: middle;\n",
       "    }\n",
       "\n",
       "    .dataframe tbody tr th {\n",
       "        vertical-align: top;\n",
       "    }\n",
       "\n",
       "    .dataframe thead th {\n",
       "        text-align: right;\n",
       "    }\n",
       "</style>\n",
       "<table border=\"1\" class=\"dataframe\">\n",
       "  <thead>\n",
       "    <tr style=\"text-align: right;\">\n",
       "      <th>degree</th>\n",
       "      <th>0</th>\n",
       "      <th>1</th>\n",
       "      <th>2</th>\n",
       "      <th>3</th>\n",
       "    </tr>\n",
       "    <tr>\n",
       "      <th>element</th>\n",
       "      <th></th>\n",
       "      <th></th>\n",
       "      <th></th>\n",
       "      <th></th>\n",
       "    </tr>\n",
       "  </thead>\n",
       "  <tbody>\n",
       "    <tr>\n",
       "      <th>C</th>\n",
       "      <td>1</td>\n",
       "      <td>56067</td>\n",
       "      <td>121369</td>\n",
       "      <td>28135</td>\n",
       "    </tr>\n",
       "    <tr>\n",
       "      <th>N</th>\n",
       "      <td>1</td>\n",
       "      <td>11349</td>\n",
       "      <td>14084</td>\n",
       "      <td>0</td>\n",
       "    </tr>\n",
       "    <tr>\n",
       "      <th>O</th>\n",
       "      <td>2</td>\n",
       "      <td>15354</td>\n",
       "      <td>0</td>\n",
       "      <td>0</td>\n",
       "    </tr>\n",
       "  </tbody>\n",
       "</table>\n",
       "</div>"
      ],
      "text/plain": [
       "degree   0      1       2      3\n",
       "element                         \n",
       "C        1  56067  121369  28135\n",
       "N        1  11349   14084      0\n",
       "O        2  15354       0      0"
      ]
     },
     "execution_count": 6,
     "metadata": {},
     "output_type": "execute_result"
    }
   ],
   "source": [
    "# Split the database into radicals on different atom types, and count the results\n",
    "frag_df = df[df.type == 'fragment']\n",
    "radical_types = frag_df.SMILES.progress_apply(radical_type)\n",
    "radical_types.pivot_table(index='element', columns='degree', aggfunc='size').drop('H').fillna(0).astype(int)"
   ]
  },
  {
   "cell_type": "code",
   "execution_count": 7,
   "metadata": {},
   "outputs": [
    {
     "name": "stderr",
     "output_type": "stream",
     "text": [
      "100%|██████████| 246363/246363 [01:56<00:00, 2122.44it/s]\n"
     ]
    }
   ],
   "source": [
    "# For carbon-centered radicals, count how many match various radical types\n",
    "allylic_radical = Chem.MolFromSmarts('[#6;X3v3+0]-[#6]=[#6X3]')\n",
    "propargylic_radical = Chem.MolFromSmarts('[#6;X3v3+0]-[#6]#[#6]')\n",
    "benzylic_radical = Chem.MolFromSmarts('[#6;X3v3+0]-[c]')\n",
    "alpha_to_ewg = Chem.MolFromSmarts('[#6;X3v3+0]-[C,N]=,#[N,O]')\n",
    "alpha_to_edg = Chem.MolFromSmarts('[#6;X3v3+0]-[O,N]')\n",
    "\n",
    "def match_smarts(smiles):\n",
    "    mol = Chem.MolFromSmiles(smiles)\n",
    "    return pd.Series({\n",
    "        'allylic': mol.HasSubstructMatch(allylic_radical),\n",
    "        'propargylic': mol.HasSubstructMatch(propargylic_radical),\n",
    "        'benzylic': mol.HasSubstructMatch(benzylic_radical),\n",
    "        'alpha_to_ewg': mol.HasSubstructMatch(alpha_to_ewg),\n",
    "        'alpha_to_edg': mol.HasSubstructMatch(alpha_to_edg),\n",
    "    })\n",
    "\n",
    "radical_matches = frag_df.SMILES.progress_apply(match_smarts)\n",
    "radical_matches['captodative'] = radical_matches['alpha_to_edg'] & radical_matches['alpha_to_ewg']"
   ]
  },
  {
   "cell_type": "code",
   "execution_count": 8,
   "metadata": {},
   "outputs": [
    {
     "data": {
      "text/plain": [
       "allylic         16229\n",
       "propargylic      1887\n",
       "benzylic         8286\n",
       "alpha_to_ewg    18758\n",
       "alpha_to_edg    55136\n",
       "captodative      4675\n",
       "dtype: int64"
      ]
     },
     "execution_count": 8,
     "metadata": {},
     "output_type": "execute_result"
    }
   ],
   "source": [
    "radical_matches.sum(0)"
   ]
  }
 ],
 "metadata": {
  "kernelspec": {
   "display_name": "Python 3",
   "language": "python",
   "name": "python3"
  },
  "language_info": {
   "codemirror_mode": {
    "name": "ipython",
    "version": 3
   },
   "file_extension": ".py",
   "mimetype": "text/x-python",
   "name": "python",
   "nbconvert_exporter": "python",
   "pygments_lexer": "ipython3",
   "version": "3.7.6"
  }
 },
 "nbformat": 4,
 "nbformat_minor": 4
}
